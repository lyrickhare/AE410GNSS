{
 "cells": [
  {
   "cell_type": "code",
   "execution_count": 1,
   "id": "2fab8892",
   "metadata": {},
   "outputs": [],
   "source": [
    "import numpy as np\n",
    "import matplotlib.pyplot as plt\n",
    "import scipy\n",
    "import numba as nb"
   ]
  },
  {
   "cell_type": "code",
   "execution_count": 2,
   "id": "c2e07e19",
   "metadata": {},
   "outputs": [],
   "source": [
    "# constants\n",
    "n = 1 # times sampling frequency\n",
    "wds = np.linspace(-10000,10000,41)\n",
    "t = np.linspace(0,1,1023*n)*1e-3\n",
    "# GPS PRN Extraction\n",
    "codesFile = scipy.io.loadmat(\"codes_L1CA.mat\")\n",
    "codes = np.array(codesFile['codes_L1CA'])"
   ]
  },
  {
   "cell_type": "code",
   "execution_count": 3,
   "id": "c911aea3",
   "metadata": {},
   "outputs": [],
   "source": [
    "def genA():\n",
    "    A = [[np.repeat(np.roll(codes[:,satNum],-tau),n) for tau in range(0,1023)]for satNum in range(0,32)]\n",
    "    return A"
   ]
  },
  {
   "cell_type": "code",
   "execution_count": 4,
   "id": "64c72ab9",
   "metadata": {},
   "outputs": [],
   "source": [
    "\n",
    "a = np.array(genA())"
   ]
  },
  {
   "cell_type": "code",
   "execution_count": 5,
   "id": "a4ab7667",
   "metadata": {},
   "outputs": [],
   "source": [
    "sirPRNI = np.repeat(np.roll(codes[:,20],-82),n)*np.cos(2*np.pi*675*t)\n",
    "sirPRNQ = np.repeat(np.roll(codes[:,20],-82),n)*np.sin(2*np.pi*675*t)"
   ]
  },
  {
   "cell_type": "code",
   "execution_count": 14,
   "id": "e363840b",
   "metadata": {},
   "outputs": [],
   "source": [
    "@nb.njit()\n",
    "def serialSearch(I,Q,codes,wds,n,a):\n",
    "    corrR=np.empty((32,41,1023))\n",
    "    corrI=np.empty((32,41,1023))\n",
    "    for y in range(0,41):\n",
    "        amodR = a*np.cos(2*np.pi*wds[y]*t)\n",
    "        amodI = a*np.sin(-2*np.pi*wds[y]*t)\n",
    "#         amodR = a*np.cos(2*np.pi*675*t)\n",
    "#         amodI = a*np.sin(-2*np.pi*675*t)\n",
    "        for x in range(0,32):\n",
    "            corrR[x,y] = np.dot(amodR[x],I)-np.dot(amodI[x],Q)\n",
    "            corrI[x,y] = np.dot(amodR[x],Q)+np.dot(amodI[x],I)\n",
    "\n",
    "    return corrR,corrI\n",
    "#     return corrR"
   ]
  },
  {
   "cell_type": "code",
   "execution_count": 15,
   "id": "204a975a",
   "metadata": {},
   "outputs": [
    {
     "name": "stdout",
     "output_type": "stream",
     "text": [
      "CPU times: total: 7.27 s\n",
      "Wall time: 28.3 s\n"
     ]
    }
   ],
   "source": [
    "%%time\n",
    "corrR,corrI = serialSearch(sirPRNI,sirPRNQ,codes,wds,n,a)"
   ]
  },
  {
   "cell_type": "code",
   "execution_count": 19,
   "id": "b3889022",
   "metadata": {},
   "outputs": [],
   "source": [
    "corr = np.sqrt(corrR**2+corrI**2)"
   ]
  },
  {
   "cell_type": "code",
   "execution_count": 20,
   "id": "976d1d14",
   "metadata": {},
   "outputs": [],
   "source": [
    "satNum,wdstar,taustar = np.unravel_index(corr.argmax(), corr.shape) "
   ]
  },
  {
   "cell_type": "code",
   "execution_count": 21,
   "id": "54552b98",
   "metadata": {},
   "outputs": [
    {
     "data": {
      "text/plain": [
       "[<matplotlib.lines.Line2D at 0x1b3b97d8b50>]"
      ]
     },
     "execution_count": 21,
     "metadata": {},
     "output_type": "execute_result"
    },
    {
     "data": {
      "image/png": "[encoded data removed]",
      "text/plain": [
       "<Figure size 640x480 with 1 Axes>"
      ]
     },
     "metadata": {},
     "output_type": "display_data"
    }
   ],
   "source": [
    "plt.plot(corr.flatten())"
   ]
  },
  {
   "cell_type": "code",
   "execution_count": 22,
   "id": "210bea48",
   "metadata": {},
   "outputs": [
    {
     "data": {
      "text/plain": [
       "20"
      ]
     },
     "execution_count": 22,
     "metadata": {},
     "output_type": "execute_result"
    }
   ],
   "source": [
    "satNum"
   ]
  },
  {
   "cell_type": "code",
   "execution_count": 23,
   "id": "4f88d90d",
   "metadata": {},
   "outputs": [
    {
     "data": {
      "text/plain": [
       "82"
      ]
     },
     "execution_count": 23,
     "metadata": {},
     "output_type": "execute_result"
    }
   ],
   "source": [
    "taustar"
   ]
  },
  {
   "cell_type": "code",
   "execution_count": 24,
   "id": "d0b0955f",
   "metadata": {},
   "outputs": [
    {
     "data": {
      "text/plain": [
       "500.0"
      ]
     },
     "execution_count": 24,
     "metadata": {},
     "output_type": "execute_result"
    }
   ],
   "source": [
    "wds[wdstar]"
   ]
  },
  {
   "cell_type": "code",
   "execution_count": null,
   "id": "9b2ea409",
   "metadata": {},
   "outputs": [],
   "source": []
  }
 ],
 "metadata": {
  "kernelspec": {
   "display_name": "Python 3 (ipykernel)",
   "language": "python",
   "name": "python3"
  },
  "language_info": {
   "codemirror_mode": {
    "name": "ipython",
    "version": 3
   },
   "file_extension": ".py",
   "mimetype": "text/x-python",
   "name": "python",
   "nbconvert_exporter": "python",
   "pygments_lexer": "ipython3",
   "version": "3.11.5"
  }
 },
 "nbformat": 4,
 "nbformat_minor": 5
}
