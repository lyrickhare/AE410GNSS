{
 "cells": [
  {
   "cell_type": "code",
   "execution_count": 1,
   "metadata": {},
   "outputs": [],
   "source": [
    "# importing necessary libraries\n",
    "import numpy as np\n",
    "import pandas as pd\n",
    "import matplotlib.pyplot as plt\n",
    "import scipy\n",
    "# GPS PRN Extraction\n",
    "codesFile = scipy.io.loadmat(\"randomData/codes_L1CA.mat\")\n",
    "codes = np.array(codesFile['codes_L1CA'])"
   ]
  },
  {
   "cell_type": "markdown",
   "metadata": {},
   "source": [
    "### Q5\n",
    "Write a MATLAB/ Python/C/C++ program to implement serial search/parallel code phase search \n",
    "acquisition algorithm. Identify the satellites (PRN IDs), carrier frequency, and code phase using the\n",
    "acquisition algorithm in the data file provided in the Google drive"
   ]
  },
  {
   "cell_type": "markdown",
   "metadata": {},
   "source": [
    "### Sol.\n",
    "- we know the signal received at the antenna is:\n",
    "\n",
    "\n",
    "$s(t) = \\sqrt{2P}D(t-\\tau)C(t-\\tau)cos((w_L+w_D)t+\\theta)$\n",
    "where : \n",
    "    - P is power\n",
    "    - $\\tau$ is delay ($\\tau = \\tau_{int} + \\tau_{frac}$)\n",
    "    - $w_L$ is L-5 band frequency and $w_D$ is doppler frequency\n",
    "\n",
    "- After RF front-end processing we get:\n",
    "\n",
    "$ I = \\sqrt{2P_1}D(t-\\tau)C(t-\\tau)cos( (w_D)t+\\theta)$\n",
    "\n",
    "\n",
    "$ Q = \\sqrt{2P_1}D(t-\\tau)C(t-\\tau)sin( (w_D)t+\\theta)$\n",
    "\n",
    "where:\n",
    "    - I is Inphase samples\n",
    "    - Q is Quadrature samples\n",
    "\n",
    "**Note** : slight abuse of notation is used as we defined C for discrete values while here we are considering it as continous, but this discrepancy will be resolved in program as we have input data as discrete samples\n",
    "\n",
    "#### Now,\n",
    "for serial search we need to get 3 parameters \n",
    "\n",
    "- $i$ the satellite number\n",
    "- $\\tau_{frac} \\in [0,1022]$\n",
    "- $w_D \\in [-20k Hz : 500 Hz : 20k Hz]$\n",
    "\n",
    "#### Steps\n",
    "\n",
    "- Firstly, we will rewrite signal as $S = I + Qj = \\sqrt{2P_1}D(t-\\tau)C(t-\\tau)e^{jw_dt}$\n",
    "\n",
    "- Then, we will multiply $S$ by $C(t-\\hat\\tau)e^{-j\\hat w_dt}$\n",
    "\n",
    "- We will get:\n",
    "\n",
    "$ Corr = \\sqrt{2P_1}D(t-\\tau)C(t-\\tau)\\oplus C_i(t-\\hat\\tau)e^{j(w_d-\\hat w_d)t}$\n",
    "\n",
    "it will attain it's maximum when :\n",
    "\n",
    "$w_d-\\hat w_d = 0$\n",
    "\n",
    "\n",
    "$\\tau = \\hat\\tau$\n",
    "\n",
    "$i = $ satellite number of incoming signal"
   ]
  },
  {
   "cell_type": "code",
   "execution_count": 2,
   "metadata": {},
   "outputs": [],
   "source": [
    "# Assumptions: \n",
    "#   - Sampling frequency is Fs which is a multiple of 1.023 MHz\n",
    "#   - Fs = n*1.023 MHz\n",
    "\n",
    "def modPRN(PRN,n,tau):\n",
    "    \"\"\"\n",
    "    function to get modified PRN for some sampling frequency & delay\n",
    "    Inputs: \n",
    "        - PRN is the PRN code for single satellite with 1023 length\n",
    "        - n = SamplingFrequency/1.023e6 \n",
    "    Output:\n",
    "        - PRN code for 1 millisecond with length = 1023*n\n",
    "        - This PRN code is delayed by tau chips\n",
    "    \"\"\"\n",
    "\n",
    "    # return np.roll(np.repeat(PRN,n),-tau)\n",
    "    return np.repeat(np.roll(PRN,-tau),n)"
   ]
  },
  {
   "cell_type": "code",
   "execution_count": 3,
   "metadata": {},
   "outputs": [
    {
     "data": {
      "text/plain": [
       "array([5, 5, 5, 1, 1, 1, 2, 2, 2, 3, 3, 3, 4, 4, 4])"
      ]
     },
     "execution_count": 3,
     "metadata": {},
     "output_type": "execute_result"
    }
   ],
   "source": [
    "# Checking modPRN\n",
    "someArrForModPRN = np.array([1,2,3,4,5])\n",
    "modPRN(someArrForModPRN,3,4)"
   ]
  },
  {
   "cell_type": "code",
   "execution_count": 4,
   "metadata": {},
   "outputs": [],
   "source": [
    "wds = np.linspace(-20000,20000,41)*2*np.pi\n",
    "def serialSearch(I, Q, knownPRNs, Fs, wds=wds):\n",
    "    rcvdSignal = np.array(I+Q*1j)\n",
    "    n = int(Fs/1.023e6)\n",
    "    t = np.linspace(0,1,n*1023)*1e-3\n",
    "    totalSatellites = knownPRNs.shape[1]\n",
    "    corr = np.zeros((totalSatellites,len(wds),1023*n))\n",
    "    for x in range(0,totalSatellites):\n",
    "        for y in range(0,len(wds)):\n",
    "            for z in range(0,1023*n):\n",
    "                generatedSignal = modPRN(knownPRNs[:,x],n,z)*np.array(np.exp(-1j*wds[y]*t))\n",
    "                corr[x,y,z] = np.abs(np.sum(generatedSignal*rcvdSignal))\n",
    "    return corr\n",
    "\n",
    "\n"
   ]
  },
  {
   "cell_type": "code",
   "execution_count": 5,
   "metadata": {},
   "outputs": [],
   "source": [
    "t = np.linspace(0,1,1023)*1e-3"
   ]
  },
  {
   "cell_type": "code",
   "execution_count": 6,
   "metadata": {},
   "outputs": [],
   "source": [
    "sirPRNI = modPRN(codes[:,20],1,82)*np.cos(2*np.pi*675*t)+np.random.normal(0,4,1023)\n",
    "sirPRNQ = modPRN(codes[:,20],1,82)*np.sin(2*np.pi*675*t)+np.random.normal(0,4,1023)"
   ]
  },
  {
   "cell_type": "code",
   "execution_count": 7,
   "metadata": {},
   "outputs": [],
   "source": [
    "corr = serialSearch(sirPRNI,sirPRNQ,codes,1.023e6)"
   ]
  },
  {
   "cell_type": "code",
   "execution_count": 8,
   "metadata": {},
   "outputs": [],
   "source": [
    "satNum,wdstar,taustar = np.unravel_index(corr.argmax(), corr.shape) "
   ]
  },
  {
   "cell_type": "code",
   "execution_count": 9,
   "metadata": {},
   "outputs": [
    {
     "data": {
      "text/plain": [
       "20"
      ]
     },
     "execution_count": 9,
     "metadata": {},
     "output_type": "execute_result"
    }
   ],
   "source": [
    "satNum"
   ]
  },
  {
   "cell_type": "code",
   "execution_count": 10,
   "metadata": {},
   "outputs": [
    {
     "data": {
      "text/plain": [
       "999.9999999999999"
      ]
     },
     "execution_count": 10,
     "metadata": {},
     "output_type": "execute_result"
    }
   ],
   "source": [
    "wds[wdstar]/(2*np.pi)"
   ]
  },
  {
   "cell_type": "code",
   "execution_count": 11,
   "metadata": {},
   "outputs": [
    {
     "data": {
      "text/plain": [
       "82"
      ]
     },
     "execution_count": 11,
     "metadata": {},
     "output_type": "execute_result"
    }
   ],
   "source": [
    "taustar"
   ]
  },
  {
   "cell_type": "code",
   "execution_count": null,
   "metadata": {},
   "outputs": [],
   "source": []
  }
 ],
 "metadata": {
  "kernelspec": {
   "display_name": "Python 3",
   "language": "python",
   "name": "python3"
  },
  "language_info": {
   "codemirror_mode": {
    "name": "ipython",
    "version": 3
   },
   "file_extension": ".py",
   "mimetype": "text/x-python",
   "name": "python",
   "nbconvert_exporter": "python",
   "pygments_lexer": "ipython3",
   "version": "3.12.0"
  }
 },
 "nbformat": 4,
 "nbformat_minor": 2
}
